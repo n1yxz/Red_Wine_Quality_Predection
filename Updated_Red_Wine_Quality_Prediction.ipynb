{
 "cells": [
  {
   "cell_type": "markdown",
   "metadata": {},
   "source": [
    "## Project - Implement Data Science Process Lifecycle on Red Wine Quality Dataset\n",
    "\n",
    "<img src=\"wine.gif\">"
   ]
  },
  {
   "cell_type": "markdown",
   "metadata": {
    "button": false,
    "new_sheet": false,
    "run_control": {
     "read_only": false
    }
   },
   "source": [
    "### Business Understanding\n",
    "\n",
    "The red wine industry shows a recent exponential growth as social drinking is on the rise. Nowadays, industry players are using product quality certifications to promote their products. This is a time-consuming process and requires the assessment given by human experts, which makes this process very expensive. Also, the price of red wine depends on a rather abstract concept of wine appreciation by wine tasters, opinion among whom may have a high degree of variability. Another vital factor in red wine certification and quality assessment is physicochemical tests, which are laboratory-based and consider factors like acidity, pH level, sugar, and other chemical properties. The red wine market would be of interest if the human quality of tasting can be related to wine’s chemical properties so that certification and quality assessment and assurance processes are more controlled. This project aims to determine which features are the best quality red wine indicators and generate insights into each of these factors to our model’s red wine quality."
   ]
  },
  {
   "cell_type": "markdown",
   "metadata": {},
   "source": [
    "\n",
    "### Analytic Approach\n",
    "\n",
    "**Q1. What is the analytical approach that you would take for this project? Why do you think it's the right approach?**\n",
    "\n",
    "For this project, we will use a **predictive modeling approach** using supervised machine learning, specifically **regression analysis**. Since our goal is to predict the quality of red wine based on various physicochemical properties, regression is the appropriate choice as it allows us to model the relationship between independent variables (features) and the dependent variable (wine quality).\n",
    "\n",
    "The approach involves:\n",
    "- Exploring and cleaning the dataset.\n",
    "- Selecting relevant features based on correlation analysis.\n",
    "- Implementing two regression models (e.g., Linear Regression and Random Forest Regression) to compare performance.\n",
    "- Evaluating models using R², RMSE, and MAE.\n",
    "- Determining the most important features affecting wine quality.\n",
    "    "
   ]
  },
  {
   "cell_type": "markdown",
   "metadata": {},
   "source": [
    "\n",
    "### Data Requirements\n",
    "\n",
    "**Q2. What kind of data do we require for predicting red wine quality and for determining the best quality indicators?**\n",
    "\n",
    "We require **structured numerical data** that includes:\n",
    "- **Physicochemical properties** such as acidity, sugar content, alcohol percentage, pH, etc.\n",
    "- **Quality ratings** as the target variable (rated on a scale from 0 to 10).\n",
    "\n",
    "Key features expected to impact quality:\n",
    "- **Alcohol content**: Higher alcohol levels often correlate with better quality.\n",
    "- **pH and acidity**: Balanced acidity is essential for wine taste.\n",
    "- **Sulfur dioxide levels**: Helps preserve wine but excessive amounts can impact taste.\n",
    "    "
   ]
  },
  {
   "cell_type": "markdown",
   "metadata": {},
   "source": [
    "\n",
    "### Data Collection\n",
    "\n",
    "**Q3. From where do we get our data?**\n",
    "\n",
    "The dataset is sourced from the **UCI Machine Learning Repository**, specifically the **Wine Quality Dataset**. The data consists of physicochemical tests conducted on different wine samples along with their quality ratings assigned by wine tasters.\n",
    "    "
   ]
  },
  {
   "cell_type": "markdown",
   "metadata": {},
   "source": [
    "\n",
    "### Data Understanding\n",
    "\n",
    "**Q4. From where are red wine samples obtained?**\n",
    "\n",
    "Red wine samples in this dataset were collected from the **Vinho Verde** wine region of Portugal, where various physicochemical tests were performed to analyze their properties.\n",
    "\n",
    "**Q5. How can knowing the impact of each feature help in making better wine?**\n",
    "\n",
    "Understanding which features influence quality can help winemakers optimize production by adjusting factors such as:\n",
    "- Fermentation conditions (e.g., temperature, yeast selection).\n",
    "- Chemical composition (e.g., balancing acidity and sugar levels).\n",
    "- Storage and aging processes.\n",
    "    "
   ]
  },
  {
   "cell_type": "markdown",
   "metadata": {},
   "source": [
    "\n",
    "### Data Preparation\n",
    "\n",
    "We will perform the following steps:\n",
    "\n",
    "#### 1. Load the dataset and inspect its structure\n",
    "```python\n",
    "import pandas as pd\n",
    "\n",
    "# Load the dataset\n",
    "url = \"https://archive.ics.uci.edu/ml/machine-learning-databases/wine-quality/winequality-red.csv\"\n",
    "df = pd.read_csv(url, delimiter=\";\")\n",
    "\n",
    "# Display dataset info\n",
    "df.info()\n",
    "df.head()\n",
    "```\n",
    "\n",
    "#### 2. Check for missing values\n",
    "```python\n",
    "# Check for missing values\n",
    "df.isnull().sum()\n",
    "```\n",
    "\n",
    "#### 3. Handle outliers (Using IQR method)\n",
    "```python\n",
    "import numpy as np\n",
    "\n",
    "# Function to remove outliers using IQR\n",
    "def remove_outliers(data, column):\n",
    "    Q1 = data[column].quantile(0.25)\n",
    "    Q3 = data[column].quantile(0.75)\n",
    "    IQR = Q3 - Q1\n",
    "    lower_bound = Q1 - 1.5 * IQR\n",
    "    upper_bound = Q3 + 1.5 * IQR\n",
    "    return data[(data[column] >= lower_bound) & (data[column] <= upper_bound)]\n",
    "\n",
    "for col in df.columns[:-1]:  # Exclude 'quality' column\n",
    "    df = remove_outliers(df, col)\n",
    "```\n",
    "\n",
    "#### 4. Implement Correlation Heatmap\n",
    "```python\n",
    "import seaborn as sns\n",
    "import matplotlib.pyplot as plt\n",
    "\n",
    "# Plot correlation heatmap\n",
    "plt.figure(figsize=(10, 8))\n",
    "sns.heatmap(df.corr(), annot=True, cmap=\"coolwarm\", fmt=\".2f\")\n",
    "plt.title(\"Feature Correlation Heatmap\")\n",
    "plt.show()\n",
    "```\n",
    "    "
   ]
  },
  {
   "cell_type": "markdown",
   "metadata": {},
   "source": [
    "\n",
    "### Modeling\n",
    "\n",
    "We will implement **two regression models**:\n",
    "\n",
    "#### 1. Multivariable Linear Regression\n",
    "```python\n",
    "from sklearn.model_selection import train_test_split\n",
    "from sklearn.linear_model import LinearRegression\n",
    "\n",
    "# Define features and target\n",
    "X = df.drop(columns=[\"quality\"])\n",
    "y = df[\"quality\"]\n",
    "\n",
    "# Split data\n",
    "X_train, X_test, y_train, y_test = train_test_split(X, y, test_size=0.2, random_state=42)\n",
    "\n",
    "# Train Linear Regression Model\n",
    "lr_model = LinearRegression()\n",
    "lr_model.fit(X_train, y_train)\n",
    "\n",
    "# Predictions\n",
    "y_pred_lr = lr_model.predict(X_test)\n",
    "```\n",
    "\n",
    "#### 2. Random Forest Regression\n",
    "```python\n",
    "from sklearn.ensemble import RandomForestRegressor\n",
    "\n",
    "# Train Random Forest Model\n",
    "rf_model = RandomForestRegressor(n_estimators=100, random_state=42)\n",
    "rf_model.fit(X_train, y_train)\n",
    "\n",
    "# Predictions\n",
    "y_pred_rf = rf_model.predict(X_test)\n",
    "```\n",
    "    "
   ]
  },
  {
   "cell_type": "markdown",
   "metadata": {},
   "source": [
    "\n",
    "### Model Evaluation\n",
    "\n",
    "We will evaluate models using **R² Score, RMSE, and MAE**.\n",
    "\n",
    "```python\n",
    "from sklearn.metrics import r2_score, mean_squared_error, mean_absolute_error\n",
    "\n",
    "# Define evaluation function\n",
    "def evaluate_model(y_true, y_pred, model_name):\n",
    "    r2 = r2_score(y_true, y_pred)\n",
    "    rmse = mean_squared_error(y_true, y_pred, squared=False)\n",
    "    mae = mean_absolute_error(y_true, y_pred)\n",
    "    print(f\"{model_name} Performance:\")\n",
    "    print(f\"R² Score: {r2:.2f}\")\n",
    "    print(f\"RMSE: {rmse:.2f}\")\n",
    "    print(f\"MAE: {mae:.2f}\")\n",
    "    print(\"-\" * 40)\n",
    "\n",
    "# Evaluate both models\n",
    "evaluate_model(y_test, y_pred_lr, \"Linear Regression\")\n",
    "evaluate_model(y_test, y_pred_rf, \"Random Forest\")\n",
    "```\n",
    "    "
   ]
  },
  {
   "cell_type": "markdown",
   "metadata": {},
   "source": [
    "*TODO*\n",
    "<li>Use three metrics: R-squared, RMSE, and MAE, to evaluate model prediction performance</li>\n",
    "<li>Compare these 3 metrics for the two models and analyze the performance</li>\n",
    "<li>Calculate the feature importance scores for the top features that help predicting wine quality and visualize them</li>"
   ]
  },
  {
   "cell_type": "markdown",
   "metadata": {},
   "source": [
    "### Conclusion\n",
    "\n",
    "*TODO*"
   ]
  }
 ],
 "metadata": {
  "kernelspec": {
   "display_name": "Python 3",
   "language": "python",
   "name": "python3"
  },
  "language_info": {
   "codemirror_mode": {
    "name": "ipython",
    "version": 3
   },
   "file_extension": ".py",
   "mimetype": "text/x-python",
   "name": "python",
   "nbconvert_exporter": "python",
   "pygments_lexer": "ipython3",
   "version": "3.7.3"
  }
 },
 "nbformat": 4,
 "nbformat_minor": 2
}
